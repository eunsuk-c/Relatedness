{
 "cells": [
  {
   "cell_type": "markdown",
   "metadata": {},
   "source": [
    "# Codes"
   ]
  },
  {
   "cell_type": "code",
   "execution_count": 1,
   "metadata": {
    "ExecuteTime": {
     "end_time": "2022-05-24T00:21:02.311024Z",
     "start_time": "2022-05-24T00:21:01.031327Z"
    }
   },
   "outputs": [],
   "source": [
    "import mysql.connector\n",
    "from pymetamap import MetaMap\n",
    "import numpy as np\n",
    "import math\n",
    "import pandas as pd\n",
    "import os\n",
    "from matplotlib import pyplot\n",
    "import statistics\n",
    "from scipy.stats import pearsonr\n",
    "from scipy.stats import spearmanr\n",
    "from scipy import stats\n",
    "from scipy.spatial.distance import cdist"
   ]
  },
  {
   "cell_type": "code",
   "execution_count": 3,
   "metadata": {
    "ExecuteTime": {
     "end_time": "2022-05-24T00:21:03.123225Z",
     "start_time": "2022-05-24T00:21:03.118573Z"
    }
   },
   "outputs": [],
   "source": [
    "def to_str(aui):\n",
    "    sql = 'select distinct str from mrconso where aui = %s and tty = %s'\n",
    "    val = (aui, 'pt')\n",
    "    mycursor.execute(sql, val)\n",
    "    result = mycursor.fetchall()\n",
    "    if result:\n",
    "        return result[0][0].replace(' ', '_')\n",
    "    else:\n",
    "        return '***No corresponding string***'\n",
    "    #return result[0][0]"
   ]
  },
  {
   "cell_type": "code",
   "execution_count": 4,
   "metadata": {
    "ExecuteTime": {
     "end_time": "2022-05-24T00:21:03.969645Z",
     "start_time": "2022-05-24T00:21:03.964366Z"
    }
   },
   "outputs": [],
   "source": [
    "def to_aui(cui, sab):\n",
    "    sql = \"select distinct aui from mrconso where cui = %s and sab = %s and tty = %s\"\n",
    "    val = (cui, sab, 'pt')\n",
    "    mycursor.execute(sql, val)\n",
    "    result = mycursor.fetchall()\n",
    "    resultList = []\n",
    "    for i in result:\n",
    "        resultList.append(i[0])\n",
    "    return resultList"
   ]
  },
  {
   "cell_type": "code",
   "execution_count": 6,
   "metadata": {
    "ExecuteTime": {
     "end_time": "2022-05-24T00:21:05.945799Z",
     "start_time": "2022-05-24T00:21:05.942562Z"
    }
   },
   "outputs": [],
   "source": [
    "def intersection(lst1, lst2):\n",
    "    lst3 = [value for value in lst1 if value in lst2]\n",
    "    return lst3"
   ]
  },
  {
   "cell_type": "code",
   "execution_count": 7,
   "metadata": {
    "ExecuteTime": {
     "end_time": "2022-05-24T00:21:06.866988Z",
     "start_time": "2022-05-24T00:21:06.861532Z"
    }
   },
   "outputs": [],
   "source": [
    "def show_ptr(aui): # returns (aui, str) of parents of the concept (in aui)\n",
    "    sql = \"select distinct ptr from mrhier where aui = %s and rela=%s\"\n",
    "    val = (aui, 'isa')\n",
    "    mycursor.execute(sql, val)\n",
    "    myresult = mycursor.fetchall()\n",
    "    #print(myresult)\n",
    "    #print(len(myresult))\n",
    "    listOfList = []\n",
    "    for i in range(len(myresult)):\n",
    "        #print('myresult[{}][0]:'.format(i), myresult[i][0])\n",
    "        auiList = [a for a in myresult[i][0].split('.')]\n",
    "        auiList.append(aui)\n",
    "        listOfList.append(auiList)\n",
    "    return listOfList\n"
   ]
  },
  {
   "cell_type": "code",
   "execution_count": 8,
   "metadata": {
    "ExecuteTime": {
     "end_time": "2022-05-24T00:21:07.752044Z",
     "start_time": "2022-05-24T00:21:07.746773Z"
    }
   },
   "outputs": [],
   "source": [
    "def common_ancestors(aui1, aui2):\n",
    "    hier1 = show_ptr(aui1)\n",
    "    hier2 = show_ptr(aui2)\n",
    "    comAnc = []\n",
    "    for h in hier1:\n",
    "        for i in hier2:\n",
    "            inter = intersection(h, i)\n",
    "            if inter not in comAnc:\n",
    "                comAnc.append(inter)\n",
    "    # the list comAnc is a list of list whose elements are lists of common ancesters\n",
    "    # since SNOMED CT is multihierarchical, there may be multiple lists of common ancesters\n",
    "    # ex. comAnc = [['A3684559', 'A3886745'], [A3684559', 'A3886745', 'A7843222']]\n",
    "    return comAnc"
   ]
  },
  {
   "cell_type": "code",
   "execution_count": 9,
   "metadata": {
    "ExecuteTime": {
     "end_time": "2022-05-24T00:21:08.619187Z",
     "start_time": "2022-05-24T00:21:08.615071Z"
    }
   },
   "outputs": [],
   "source": [
    "def lcs(aui1, aui2):\n",
    "    comAnc = common_ancestors(aui1, aui2)\n",
    "    # ex. comAnc = [['A3684559', 'A3886745'], [A3684559', 'A3886745', 'A7843222']]\n",
    "    lcsList = []\n",
    "    for ch in comAnc:\n",
    "        lc = ch[-1]\n",
    "        lcsList.append(lc)\n",
    "    # returns a list of lcs\n",
    "    return list(set(lcsList))"
   ]
  },
  {
   "cell_type": "code",
   "execution_count": 16,
   "metadata": {
    "ExecuteTime": {
     "end_time": "2022-05-24T00:21:15.140539Z",
     "start_time": "2022-05-24T00:21:15.133188Z"
    }
   },
   "outputs": [],
   "source": [
    "def rel(cui, sab):\n",
    "    sql = \"select distinct aui1,rela from mrrel where cui2 = %s and sab = %s\"\n",
    "    val = (cui, sab)\n",
    "    mycursor.execute(sql, val)\n",
    "    result = mycursor.fetchall()\n",
    "    #print(result)\n",
    "    resultList = []\n",
    "    for i in result:\n",
    "        if not (i[1] == 'possibly_equivalent_to' or i[1]=='same_as' or i[1]=='isa'\n",
    "                or i[1]=='was_a' or i[1]=='inverse_was_a' or i[1]=='moved_to' \n",
    "                or i[1]=='is_not_primary_anatomic_site_of_disease' or i[1]=='concept_in_subset'):\n",
    "            if to_str(i[0]) != '***No corresponding string***':\n",
    "                resultList.append((i[0], i[1]))\n",
    "    return resultList"
   ]
  },
  {
   "cell_type": "code",
   "execution_count": 18,
   "metadata": {
    "ExecuteTime": {
     "end_time": "2022-05-24T00:21:17.028395Z",
     "start_time": "2022-05-24T00:21:17.023773Z"
    }
   },
   "outputs": [],
   "source": [
    "# my wt 3\n",
    "def wt(caui, raui): # qaui is AUI of query concept; taui is AUI of concept in text   \n",
    "    '''\n",
    "    if (caui != 'A3684559') or (caui != 'A1412976'):\n",
    "        if show_ptr(caui):\n",
    "            depthCaui = max([len(h) for h in show_ptr(caui)])\n",
    "        else:\n",
    "            depthCaui = 0\n",
    "    else:\n",
    "        depthCaui = 1\n",
    "    print('depthCaui:', depthCaui)\n",
    "    '''\n",
    "    wtList = []\n",
    "    for hier in show_ptr(raui):\n",
    "        if caui in hier:\n",
    "            #print('detected hier:', hier)\n",
    "            enuHier = enumerate(hier)\n",
    "            for d,a in enuHier:\n",
    "                if a==caui:\n",
    "                    depthCaui = d+1\n",
    "                if a==raui:\n",
    "                    depthRaui = d+1\n",
    "            wtList.append(depthCaui/depthRaui)\n",
    "        else:\n",
    "            wtList.append(0)\n",
    "    #print('wtList:', wtList)\n",
    "    return max(wtList)"
   ]
  },
  {
   "cell_type": "code",
   "execution_count": 20,
   "metadata": {
    "ExecuteTime": {
     "end_time": "2022-05-24T00:21:19.024784Z",
     "start_time": "2022-05-24T00:21:18.999422Z"
    }
   },
   "outputs": [],
   "source": [
    "def sim(cui1, cui2, sab, k=0.25):\n",
    "    \n",
    "    assoAuis1 = []\n",
    "    auis1 = to_aui(cui1, sab)\n",
    "    for a in auis1:\n",
    "        assoAuis1.append((a, 'isa'))\n",
    "    # Delete the following 2 lines if you would like to measure similarity using 'isa' hierarchy only\n",
    "    for ar in rel(cui1, sab):\n",
    "        assoAuis1.append(ar)\n",
    "    #print('assoAuis1:', assoAuis1)\n",
    "    \n",
    "    assoAuis2 = []\n",
    "    auis2 = to_aui(cui2, sab)\n",
    "    for a in auis2:\n",
    "        assoAuis2.append((a, 'isa'))\n",
    "    # Delete the following 2 lines if you would like to measure similarity using 'isa' hierarchy only\n",
    "    for ar in rel(cui2, sab):\n",
    "        assoAuis2.append(ar)\n",
    "    #print('assoAuis2:', assoAuis2)\n",
    "    \n",
    "\n",
    "    if (assoAuis1!=[]) and (assoAuis2!=[]):\n",
    "        # 'cols' list holds all concepts on a hierarchical way from root to the target cocept\n",
    "        cols = []\n",
    "        for ar1 in assoAuis1:\n",
    "            for s in show_ptr(ar1[0]):\n",
    "                for a in s:\n",
    "                    if a not in cols:\n",
    "                        cols.append(a)        \n",
    "        for ar2 in assoAuis2:   \n",
    "            for s in show_ptr(ar2[0]):\n",
    "                for a in s:\n",
    "                    if a not in cols:\n",
    "                        cols.append(a)\n",
    "        cols = list(set(cols))\n",
    "        #print(\"\\tcols:\", cols)  \n",
    "        #print()\n",
    "\n",
    "\n",
    "        # Build a dataframe in which columns are elements of 'cols' and rows are all AUIs of two terms \n",
    "        dfDic1 = {} # Dictionary whose keys are AUIs of headers and values are weights between corresponding header AUI and query Aui\n",
    "        for c in cols:\n",
    "            dfDic1[c] = {}\n",
    "            for ar in assoAuis1:\n",
    "                dfDic1[c][ar[0]] = 0\n",
    "                tauiHier = show_ptr(ar[0]) \n",
    "                #print('tauiHier:', tauiHier)\n",
    "\n",
    "                if tauiHier:\n",
    "                    for hier in tauiHier:\n",
    "                        if c in hier:\n",
    "                            #print('measuring wt between {} and {}'.format(c, ar[0]))\n",
    "                            weight = wt(c, ar[0])\n",
    "                            if ar[1] != 'isa':\n",
    "                                weight = weight*k\n",
    "                                if weight > dfDic1[c][ar[0]]:\n",
    "                                    dfDic1[c][ar[0]] = weight\n",
    "                                else:\n",
    "                                    pass\n",
    "                            else:\n",
    "                                if weight > dfDic1[c][ar[0]]:\n",
    "                                    dfDic1[c][ar[0]] = weight\n",
    "                                else:\n",
    "                                    pass\n",
    "                        else:\n",
    "                            continue\n",
    "                else:\n",
    "                    continue\n",
    "\n",
    "        df1 = pd.DataFrame(dfDic1)\n",
    "        #print(df1) \n",
    "        vector1 = df1[cols].mean().to_numpy()\n",
    "        #vector1 = np.reshape(vector1, (-1, 1))\n",
    "\n",
    "\n",
    "        # Build a dataframe in which columns are elements of 'cols' and rows are all AUIs of two terms \n",
    "        dfDic2 = {} # Dictionary whose keys are AUIs of headers and values are weights between corresponding header AUI and query Aui\n",
    "        for c in cols:\n",
    "            dfDic2[c] = {}\n",
    "            for ar in assoAuis2:\n",
    "                dfDic2[c][ar[0]] = 0\n",
    "                tauiHier = show_ptr(ar[0]) \n",
    "                #print('tauiHier:', tauiHier)\n",
    "\n",
    "                if tauiHier:\n",
    "                    for hier in tauiHier:\n",
    "                        if c in hier:\n",
    "                            weight = wt(c, ar[0])\n",
    "                            if ar[1] != 'isa':\n",
    "                                weight = weight*k\n",
    "                                if weight > dfDic2[c][ar[0]]:\n",
    "                                    dfDic2[c][ar[0]] = weight\n",
    "                                else:\n",
    "                                    pass\n",
    "                            else:\n",
    "                                if weight > dfDic2[c][ar[0]]:\n",
    "                                    dfDic2[c][ar[0]] = weight\n",
    "                                else:\n",
    "                                    pass\n",
    "                        else:\n",
    "                            continue\n",
    "                else:\n",
    "                    continue\n",
    "\n",
    "        df2 = pd.DataFrame(dfDic2)\n",
    "        #print(df2) \n",
    "        vector2 = df2[cols].mean().to_numpy()\n",
    "        #vector1 = np.reshape(vector1, (-1, 1))\n",
    "        #print()\n",
    "        #print(vector1)\n",
    "        #print(vector2)\n",
    "\n",
    "\n",
    "        # Cosine similarity calculation\n",
    "        numeratorList = []\n",
    "        for i in range(len(vector1)):\n",
    "            numeratorList.append(vector1[i]*vector2[i])\n",
    "        numerator = sum(numeratorList)\n",
    "\n",
    "        denominator1List = []\n",
    "        for i in vector1:\n",
    "            denominator1List.append(i**2)\n",
    "        denominator1 = math.sqrt(sum(denominator1List))\n",
    "\n",
    "        denominator2List = []\n",
    "        for i in vector2:\n",
    "            denominator2List.append(i**2)\n",
    "        denominator2 = math.sqrt(sum(denominator2List))\n",
    "\n",
    "        cosSim = numerator/(denominator1*denominator2)\n",
    "\n",
    "        return cosSim\n",
    "    else:\n",
    "        return None\n",
    "        print('None')"
   ]
  },
  {
   "cell_type": "markdown",
   "metadata": {
    "ExecuteTime": {
     "end_time": "2022-01-06T02:15:26.149939Z",
     "start_time": "2022-01-06T02:15:26.141950Z"
    },
    "hidden": true
   },
   "source": [
    "# Evaluation: congestive heart failure vs pulmonary edema"
   ]
  },
  {
   "cell_type": "code",
   "execution_count": 179,
   "metadata": {
    "ExecuteTime": {
     "end_time": "2022-04-15T02:13:02.685072Z",
     "start_time": "2022-04-15T02:12:18.476555Z"
    },
    "hidden": true
   },
   "outputs": [
    {
     "name": "stdout",
     "output_type": "stream",
     "text": [
      "assoAuis1: [('A2876049', 'isa'), ('A15144555', 'associated_finding_of'), ('A2977261', 'cause_of'), ('A21111173', 'inverse_isa'), ('A21111174', 'inverse_isa'), ('A21114045', 'inverse_isa'), ('A3107081', 'has_finding_site'), ('A3572714', 'has_finding_site'), ('A23453139', 'focus_of'), ('A23461758', 'inverse_isa'), ('A23456927', 'inverse_isa'), ('A23463973', 'inverse_isa'), ('A23459656', 'inverse_isa'), ('A25679756', 'inverse_isa'), ('A25680487', 'inverse_isa'), ('A27772964', 'inverse_isa'), ('A2953022', 'inverse_isa'), ('A2957879', 'inverse_isa'), ('A2960389', 'inverse_isa'), ('A2967847', 'inverse_isa'), ('A2977261', 'inverse_isa'), ('A2995991', 'inverse_isa'), ('A3004638', 'inverse_isa'), ('A3143243', 'inverse_isa'), ('A3143244', 'inverse_isa'), ('A3304265', 'inverse_isa'), ('A2874988', 'cause_of'), ('A13004805', 'inverse_isa'), ('A13004804', 'inverse_isa')]\n",
      "assoAuis2: [('A2943246', 'isa'), ('A3022982', 'inverse_isa'), ('A3050407', 'associated_finding_of'), ('A2881022', 'has_associated_morphology'), ('A3154872', 'has_finding_site'), ('A23459061', 'inverse_isa'), ('A23450329', 'inverse_isa'), ('A24082121', 'inverse_isa'), ('A3040758', 'inverse_isa'), ('A2874988', 'inverse_isa'), ('A2958225', 'inverse_isa'), ('A2978198', 'inverse_isa'), ('A2989070', 'inverse_isa'), ('A3141122', 'inverse_isa'), ('A3163700', 'inverse_isa'), ('A3902947', 'inverse_isa'), ('A3048893', 'inverse_isa'), ('A3030376', 'inverse_isa'), ('A3059766', 'inverse_isa'), ('A27778119', 'inverse_isa'), ('A3050407', 'inverse_isa')]\n",
      "\n",
      "           A9405607  A3029996  A3103062  A3723424  A3210223  A8385935  \\\n",
      "A2876049          0  0.000000  0.000000  0.000000   0.00000  0.000000   \n",
      "A15144555         0  0.000000  0.000000  0.000000   0.00000  0.000000   \n",
      "A2977261          0  0.000000  0.000000  0.000000   0.00000  0.000000   \n",
      "A21111173         0  0.000000  0.000000  0.000000   0.00000  0.000000   \n",
      "A21111174         0  0.000000  0.000000  0.000000   0.00000  0.000000   \n",
      "A21114045         0  0.000000  0.000000  0.000000   0.00000  0.000000   \n",
      "A3107081          0  0.000000  0.400000  0.533333   0.52381  0.500000   \n",
      "A3572714          0  0.000000  0.421053  0.571429   0.55000  0.533333   \n",
      "A23453139         0  0.000000  0.000000  0.000000   0.00000  0.000000   \n",
      "A23461758         0  0.000000  0.000000  0.000000   0.00000  0.000000   \n",
      "A23456927         0  0.000000  0.000000  0.000000   0.00000  0.000000   \n",
      "A23463973         0  0.000000  0.000000  0.000000   0.00000  0.000000   \n",
      "A23459656         0  0.000000  0.000000  0.000000   0.00000  0.000000   \n",
      "A25679756         0  0.000000  0.000000  0.000000   0.00000  0.000000   \n",
      "A25680487         0  0.000000  0.000000  0.000000   0.00000  0.000000   \n",
      "A27772964         0  0.000000  0.000000  0.000000   0.00000  0.000000   \n",
      "A2953022          0  0.000000  0.000000  0.000000   0.00000  0.000000   \n",
      "A2957879          0  0.000000  0.000000  0.000000   0.00000  0.000000   \n",
      "A2960389          0  0.000000  0.000000  0.000000   0.00000  0.000000   \n",
      "A2967847          0  0.000000  0.000000  0.000000   0.00000  0.000000   \n",
      "A2995991          0  0.000000  0.000000  0.000000   0.00000  0.000000   \n",
      "A3004638          0  0.785714  0.000000  0.000000   0.00000  0.000000   \n",
      "A3143243          0  0.000000  0.000000  0.000000   0.00000  0.000000   \n",
      "A3143244          0  0.000000  0.000000  0.000000   0.00000  0.000000   \n",
      "A3304265          0  0.000000  0.000000  0.000000   0.00000  0.000000   \n",
      "A2874988          0  0.000000  0.000000  0.000000   0.00000  0.000000   \n",
      "A13004805         0  0.000000  0.000000  0.000000   0.00000  0.000000   \n",
      "A13004804         0  0.000000  0.000000  0.000000   0.00000  0.000000   \n",
      "\n",
      "           A10887192  A3103134  A3300149  A23456927  ...  A3399957  A3050407  \\\n",
      "A2876049    0.000000  0.000000  0.000000        0.0  ...  0.555556         0   \n",
      "A15144555   0.333333  0.000000  0.000000        0.0  ...  0.000000         0   \n",
      "A2977261    0.000000  0.000000  0.000000        0.0  ...  0.454545         0   \n",
      "A21111173   0.000000  0.000000  0.000000        0.0  ...  0.500000         0   \n",
      "A21111174   0.000000  0.000000  0.000000        0.0  ...  0.500000         0   \n",
      "A21114045   0.000000  0.000000  0.000000        0.0  ...  0.500000         0   \n",
      "A3107081    0.000000  0.454545  0.000000        0.0  ...  0.000000         0   \n",
      "A3572714    0.000000  0.500000  0.000000        0.0  ...  0.000000         0   \n",
      "A23453139   0.000000  0.000000  0.571429        0.0  ...  0.000000         0   \n",
      "A23461758   0.000000  0.000000  0.000000        0.0  ...  0.500000         0   \n",
      "A23456927   0.000000  0.000000  0.000000        1.0  ...  0.500000         0   \n",
      "A23463973   0.000000  0.000000  0.000000        0.0  ...  0.500000         0   \n",
      "A23459656   0.000000  0.000000  0.000000        0.0  ...  0.500000         0   \n",
      "A25679756   0.000000  0.000000  0.000000        0.0  ...  0.555556         0   \n",
      "A25680487   0.000000  0.000000  0.000000        0.0  ...  0.555556         0   \n",
      "A27772964   0.000000  0.000000  0.000000        0.0  ...  0.500000         0   \n",
      "A2953022    0.000000  0.000000  0.000000        0.0  ...  0.500000         0   \n",
      "A2957879    0.000000  0.000000  0.000000        0.0  ...  0.500000         0   \n",
      "A2960389    0.000000  0.000000  0.000000        0.0  ...  0.555556         0   \n",
      "A2967847    0.000000  0.000000  0.000000        0.0  ...  0.500000         0   \n",
      "A2995991    0.000000  0.000000  0.000000        0.0  ...  0.500000         0   \n",
      "A3004638    0.000000  0.000000  0.000000        0.0  ...  0.416667         0   \n",
      "A3143243    0.000000  0.000000  0.000000        0.0  ...  0.500000         0   \n",
      "A3143244    0.000000  0.000000  0.000000        0.0  ...  0.500000         0   \n",
      "A3304265    0.000000  0.000000  0.000000        0.0  ...  0.500000         0   \n",
      "A2874988    0.000000  0.000000  0.000000        0.0  ...  0.000000         0   \n",
      "A13004805   0.000000  0.000000  0.000000        0.0  ...  0.500000         0   \n",
      "A13004804   0.000000  0.000000  0.000000        0.0  ...  0.500000         0   \n",
      "\n",
      "           A3340537  A3287108  A3543964  A2958225  A25679756  A27778119  \\\n",
      "A2876049          0         0         0         0        0.0          0   \n",
      "A15144555         0         0         0         0        0.0          0   \n",
      "A2977261          0         0         0         0        0.0          0   \n",
      "A21111173         0         0         0         0        0.0          0   \n",
      "A21111174         0         0         0         0        0.0          0   \n",
      "A21114045         0         0         0         0        0.0          0   \n",
      "A3107081          0         0         0         0        0.0          0   \n",
      "A3572714          0         0         0         0        0.0          0   \n",
      "A23453139         0         0         0         0        0.0          0   \n",
      "A23461758         0         0         0         0        0.0          0   \n",
      "A23456927         0         0         0         0        0.0          0   \n",
      "A23463973         0         0         0         0        0.0          0   \n",
      "A23459656         0         0         0         0        0.0          0   \n",
      "A25679756         0         0         0         0        1.0          0   \n",
      "A25680487         0         0         0         0        0.0          0   \n",
      "A27772964         0         0         0         0        0.0          0   \n",
      "A2953022          0         0         0         0        0.0          0   \n",
      "A2957879          0         0         0         0        0.0          0   \n",
      "A2960389          0         0         0         0        0.0          0   \n",
      "A2967847          0         0         0         0        0.0          0   \n",
      "A2995991          0         0         0         0        0.0          0   \n",
      "A3004638          0         0         0         0        0.0          0   \n",
      "A3143243          0         0         0         0        0.0          0   \n",
      "A3143244          0         0         0         0        0.0          0   \n",
      "A3304265          0         0         0         0        0.0          0   \n",
      "A2874988          0         0         0         0        0.0          0   \n",
      "A13004805         0         0         0         0        0.0          0   \n",
      "A13004804         0         0         0         0        0.0          0   \n",
      "\n",
      "           A3457837  A2944051  \n",
      "A2876049   0.000000  0.000000  \n",
      "A15144555  0.000000  0.000000  \n",
      "A2977261   0.000000  0.000000  \n",
      "A21111173  0.000000  0.000000  \n",
      "A21111174  0.000000  0.000000  \n",
      "A21114045  0.000000  0.000000  \n",
      "A3107081   0.000000  0.000000  \n",
      "A3572714   0.000000  0.000000  \n",
      "A23453139  0.000000  0.000000  \n",
      "A23461758  0.000000  0.000000  \n",
      "A23456927  0.000000  0.000000  \n",
      "A23463973  0.000000  0.000000  \n",
      "A23459656  0.000000  0.000000  \n",
      "A25679756  0.000000  0.000000  \n",
      "A25680487  0.000000  0.000000  \n",
      "A27772964  0.000000  0.000000  \n",
      "A2953022   0.000000  0.000000  \n",
      "A2957879   0.000000  0.000000  \n",
      "A2960389   0.000000  0.916667  \n",
      "A2967847   0.000000  0.000000  \n",
      "A2995991   0.000000  0.000000  \n",
      "A3004638   0.000000  0.000000  \n",
      "A3143243   0.000000  0.000000  \n",
      "A3143244   0.000000  0.000000  \n",
      "A3304265   0.769231  0.000000  \n",
      "A2874988   0.000000  0.000000  \n",
      "A13004805  0.000000  0.000000  \n",
      "A13004804  0.000000  0.000000  \n",
      "\n",
      "[28 rows x 243 columns]\n"
     ]
    },
    {
     "name": "stdout",
     "output_type": "stream",
     "text": [
      "           A9405607  A3029996  A3103062  A3723424  A3210223  A8385935  \\\n",
      "A2943246      0.000         0         0  0.000000         0  0.000000   \n",
      "A3022982      0.000         0         0  0.000000         0  0.000000   \n",
      "A3050407      0.000         0         0  0.000000         0  0.000000   \n",
      "A2881022      0.000         0         0  0.000000         0  0.000000   \n",
      "A3154872      0.000         0         0  0.727273         0  0.666667   \n",
      "A23459061     0.000         0         0  0.000000         0  0.000000   \n",
      "A23450329     0.000         0         0  0.000000         0  0.000000   \n",
      "A24082121     0.000         0         0  0.000000         0  0.000000   \n",
      "A3040758      0.000         0         0  0.000000         0  0.000000   \n",
      "A2874988      0.000         0         0  0.000000         0  0.000000   \n",
      "A2958225      0.000         0         0  0.000000         0  0.000000   \n",
      "A2978198      0.000         0         0  0.000000         0  0.000000   \n",
      "A2989070      0.000         0         0  0.000000         0  0.000000   \n",
      "A3141122      0.000         0         0  0.000000         0  0.000000   \n",
      "A3163700      0.000         0         0  0.000000         0  0.000000   \n",
      "A3902947      0.000         0         0  0.000000         0  0.000000   \n",
      "A3048893      0.000         0         0  0.000000         0  0.000000   \n",
      "A3030376      0.375         0         0  0.000000         0  0.000000   \n",
      "A3059766      0.000         0         0  0.000000         0  0.000000   \n",
      "A27778119     0.000         0         0  0.000000         0  0.000000   \n",
      "\n",
      "           A10887192  A3103134  A3300149  A23456927  ...  A3399957  A3050407  \\\n",
      "A2943246           0     0.000         0          0  ...  0.555556       0.0   \n",
      "A3022982           0     0.000         0          0  ...  0.500000       0.0   \n",
      "A3050407           0     0.000         0          0  ...  0.500000       1.0   \n",
      "A2881022           0     0.000         0          0  ...  0.000000       0.0   \n",
      "A3154872           0     0.625         0          0  ...  0.000000       0.0   \n",
      "A23459061          0     0.000         0          0  ...  0.625000       0.0   \n",
      "A23450329          0     0.000         0          0  ...  0.625000       0.0   \n",
      "A24082121          0     0.000         0          0  ...  0.500000       0.0   \n",
      "A3040758           0     0.000         0          0  ...  0.500000       0.0   \n",
      "A2874988           0     0.000         0          0  ...  0.000000       0.0   \n",
      "A2958225           0     0.000         0          0  ...  0.625000       0.0   \n",
      "A2978198           0     0.000         0          0  ...  0.500000       0.0   \n",
      "A2989070           0     0.000         0          0  ...  0.625000       0.0   \n",
      "A3141122           0     0.000         0          0  ...  0.555556       0.0   \n",
      "A3163700           0     0.000         0          0  ...  0.500000       0.0   \n",
      "A3902947           0     0.000         0          0  ...  0.500000       0.0   \n",
      "A3048893           0     0.000         0          0  ...  0.500000       0.0   \n",
      "A3030376           0     0.000         0          0  ...  0.500000       0.0   \n",
      "A3059766           0     0.000         0          0  ...  0.500000       0.0   \n",
      "A27778119          0     0.000         0          0  ...  0.625000       0.0   \n",
      "\n",
      "           A3340537  A3287108  A3543964  A2958225  A25679756  A27778119  \\\n",
      "A2943246   0.000000       0.0       0.0       0.0          0        0.0   \n",
      "A3022982   0.000000       0.0       0.0       0.0          0        0.0   \n",
      "A3050407   0.000000       0.0       0.0       0.0          0        0.0   \n",
      "A2881022   0.000000       0.0       0.0       0.0          0        0.0   \n",
      "A3154872   0.000000       0.0       0.8       0.0          0        0.0   \n",
      "A23459061  0.555556       0.9       0.0       0.0          0        0.0   \n",
      "A23450329  0.555556       0.9       0.0       0.0          0        0.0   \n",
      "A24082121  0.000000       0.0       0.0       0.0          0        0.0   \n",
      "A3040758   0.000000       0.0       0.0       0.0          0        0.0   \n",
      "A2874988   0.000000       0.0       0.0       0.0          0        0.0   \n",
      "A2958225   0.000000       0.0       0.0       1.0          0        0.0   \n",
      "A2978198   0.000000       0.0       0.0       0.0          0        0.0   \n",
      "A2989070   0.000000       0.0       0.0       0.0          0        0.0   \n",
      "A3141122   0.000000       0.0       0.0       0.0          0        0.0   \n",
      "A3163700   0.000000       0.0       0.0       0.0          0        0.0   \n",
      "A3902947   0.000000       0.0       0.0       0.0          0        0.0   \n",
      "A3048893   0.000000       0.0       0.0       0.0          0        0.0   \n",
      "A3030376   0.000000       0.0       0.0       0.0          0        0.0   \n",
      "A3059766   0.000000       0.0       0.0       0.0          0        0.0   \n",
      "A27778119  0.000000       0.0       0.0       0.0          0        1.0   \n",
      "\n",
      "           A3457837  A2944051  \n",
      "A2943246          0         0  \n",
      "A3022982          0         0  \n",
      "A3050407          0         0  \n",
      "A2881022          0         0  \n",
      "A3154872          0         0  \n",
      "A23459061         0         0  \n",
      "A23450329         0         0  \n",
      "A24082121         0         0  \n",
      "A3040758          0         0  \n",
      "A2874988          0         0  \n",
      "A2958225          0         0  \n",
      "A2978198          0         0  \n",
      "A2989070          0         0  \n",
      "A3141122          0         0  \n",
      "A3163700          0         0  \n",
      "A3902947          0         0  \n",
      "A3048893          0         0  \n",
      "A3030376          0         0  \n",
      "A3059766          0         0  \n",
      "A27778119         0         0  \n",
      "\n",
      "[20 rows x 243 columns]\n",
      "\n"
     ]
    },
    {
     "data": {
      "text/plain": [
       "0.4089315996631767"
      ]
     },
     "execution_count": 179,
     "metadata": {},
     "output_type": "execute_result"
    }
   ],
   "source": [
    "# k=1\n",
    "sim('c0018802', 'c0034063', 'snomedct_us', k=1)"
   ]
  }
 ],
 "metadata": {
  "kernelspec": {
   "display_name": "Python 3",
   "language": "python",
   "name": "python3"
  },
  "language_info": {
   "codemirror_mode": {
    "name": "ipython",
    "version": 3
   },
   "file_extension": ".py",
   "mimetype": "text/x-python",
   "name": "python",
   "nbconvert_exporter": "python",
   "pygments_lexer": "ipython3",
   "version": "3.8.5"
  },
  "varInspector": {
   "cols": {
    "lenName": 16,
    "lenType": 16,
    "lenVar": 40
   },
   "kernels_config": {
    "python": {
     "delete_cmd_postfix": "",
     "delete_cmd_prefix": "del ",
     "library": "var_list.py",
     "varRefreshCmd": "print(var_dic_list())"
    },
    "r": {
     "delete_cmd_postfix": ") ",
     "delete_cmd_prefix": "rm(",
     "library": "var_list.r",
     "varRefreshCmd": "cat(var_dic_list()) "
    }
   },
   "types_to_exclude": [
    "module",
    "function",
    "builtin_function_or_method",
    "instance",
    "_Feature"
   ],
   "window_display": false
  }
 },
 "nbformat": 4,
 "nbformat_minor": 4
}
